{
 "cells": [
  {
   "cell_type": "code",
   "execution_count": 2,
   "metadata": {},
   "outputs": [],
   "source": [
    "# ライブラリのインポート\n",
    "import pandas as pd\n",
    "import numpy as np\n",
    "import matplotlib.pyplot as plt\n",
    "#import seaborn as sns; sns.set()\n",
    "import warnings \n",
    "warnings.filterwarnings('ignore')\n",
    "\n",
    "import sklearn.metrics\n",
    "\n",
    "import numpy as np\n"
   ]
  },
  {
   "cell_type": "code",
   "execution_count": 3,
   "metadata": {},
   "outputs": [
    {
     "data": {
      "text/html": [
       "<div>\n",
       "<style scoped>\n",
       "    .dataframe tbody tr th:only-of-type {\n",
       "        vertical-align: middle;\n",
       "    }\n",
       "\n",
       "    .dataframe tbody tr th {\n",
       "        vertical-align: top;\n",
       "    }\n",
       "\n",
       "    .dataframe thead th {\n",
       "        text-align: right;\n",
       "    }\n",
       "</style>\n",
       "<table border=\"1\" class=\"dataframe\">\n",
       "  <thead>\n",
       "    <tr style=\"text-align: right;\">\n",
       "      <th></th>\n",
       "      <th>qid</th>\n",
       "      <th>competition</th>\n",
       "      <th>timestamp</th>\n",
       "      <th>format</th>\n",
       "      <th>question</th>\n",
       "      <th>answer</th>\n",
       "      <th>title</th>\n",
       "      <th>text</th>\n",
       "      <th>score</th>\n",
       "      <th>did</th>\n",
       "    </tr>\n",
       "  </thead>\n",
       "  <tbody>\n",
       "    <tr>\n",
       "      <th>0</th>\n",
       "      <td>11333</td>\n",
       "      <td>abc_08</td>\n",
       "      <td>2010-03-21</td>\n",
       "      <td>早押し</td>\n",
       "      <td>ファッションショーにおいてモデルが歩く、客席に突き出したステージのことを何というでしょう?</td>\n",
       "      <td>キャットウォーク</td>\n",
       "      <td>ランウェイ</td>\n",
       "      <td>ランウェイ (runway) あるいはキャットウォーク (catwalk) とは、ファッショ...</td>\n",
       "      <td>4</td>\n",
       "      <td>1</td>\n",
       "    </tr>\n",
       "    <tr>\n",
       "      <th>1</th>\n",
       "      <td>11333</td>\n",
       "      <td>abc_08</td>\n",
       "      <td>2010-03-21</td>\n",
       "      <td>早押し</td>\n",
       "      <td>ファッションショーにおいてモデルが歩く、客席に突き出したステージのことを何というでしょう?</td>\n",
       "      <td>キャットウォーク</td>\n",
       "      <td>Prism Stone</td>\n",
       "      <td>2012年3月30日、パシフィコ横浜で行われたタカラトミー主催のイベント「プリティーガールズ...</td>\n",
       "      <td>1</td>\n",
       "      <td>2</td>\n",
       "    </tr>\n",
       "    <tr>\n",
       "      <th>2</th>\n",
       "      <td>11333</td>\n",
       "      <td>abc_08</td>\n",
       "      <td>2010-03-21</td>\n",
       "      <td>早押し</td>\n",
       "      <td>ファッションショーにおいてモデルが歩く、客席に突き出したステージのことを何というでしょう?</td>\n",
       "      <td>キャットウォーク</td>\n",
       "      <td>仙台コレクション</td>\n",
       "      <td>屋内で開催される同種のリアル・クローズのファッションショーで見られる出展ブランドの特設直販ブ...</td>\n",
       "      <td>0</td>\n",
       "      <td>3</td>\n",
       "    </tr>\n",
       "    <tr>\n",
       "      <th>3</th>\n",
       "      <td>11333</td>\n",
       "      <td>abc_08</td>\n",
       "      <td>2010-03-21</td>\n",
       "      <td>早押し</td>\n",
       "      <td>ファッションショーにおいてモデルが歩く、客席に突き出したステージのことを何というでしょう?</td>\n",
       "      <td>キャットウォーク</td>\n",
       "      <td>ファッションショー</td>\n",
       "      <td>ファッションショーでは、予め選ばれたモデルが売り手側が用意した服を着て、観客席に挟まれた細長...</td>\n",
       "      <td>4</td>\n",
       "      <td>4</td>\n",
       "    </tr>\n",
       "    <tr>\n",
       "      <th>4</th>\n",
       "      <td>11333</td>\n",
       "      <td>abc_08</td>\n",
       "      <td>2010-03-21</td>\n",
       "      <td>早押し</td>\n",
       "      <td>ファッションショーにおいてモデルが歩く、客席に突き出したステージのことを何というでしょう?</td>\n",
       "      <td>キャットウォーク</td>\n",
       "      <td>マンチカン</td>\n",
       "      <td>体長より少しばかり短い、動作豊かな尻尾を持つ。片足をもう一方の足と同じ直線上に置きつつ、尻尾...</td>\n",
       "      <td>0</td>\n",
       "      <td>5</td>\n",
       "    </tr>\n",
       "  </tbody>\n",
       "</table>\n",
       "</div>"
      ],
      "text/plain": [
       "     qid competition  timestamp format  \\\n",
       "0  11333      abc_08 2010-03-21    早押し   \n",
       "1  11333      abc_08 2010-03-21    早押し   \n",
       "2  11333      abc_08 2010-03-21    早押し   \n",
       "3  11333      abc_08 2010-03-21    早押し   \n",
       "4  11333      abc_08 2010-03-21    早押し   \n",
       "\n",
       "                                        question    answer        title  \\\n",
       "0  ファッションショーにおいてモデルが歩く、客席に突き出したステージのことを何というでしょう?  キャットウォーク        ランウェイ   \n",
       "1  ファッションショーにおいてモデルが歩く、客席に突き出したステージのことを何というでしょう?  キャットウォーク  Prism Stone   \n",
       "2  ファッションショーにおいてモデルが歩く、客席に突き出したステージのことを何というでしょう?  キャットウォーク     仙台コレクション   \n",
       "3  ファッションショーにおいてモデルが歩く、客席に突き出したステージのことを何というでしょう?  キャットウォーク    ファッションショー   \n",
       "4  ファッションショーにおいてモデルが歩く、客席に突き出したステージのことを何というでしょう?  キャットウォーク        マンチカン   \n",
       "\n",
       "                                                text  score  did  \n",
       "0  ランウェイ (runway) あるいはキャットウォーク (catwalk) とは、ファッショ...      4    1  \n",
       "1  2012年3月30日、パシフィコ横浜で行われたタカラトミー主催のイベント「プリティーガールズ...      1    2  \n",
       "2  屋内で開催される同種のリアル・クローズのファッションショーで見られる出展ブランドの特設直販ブ...      0    3  \n",
       "3  ファッションショーでは、予め選ばれたモデルが売り手側が用意した服を着て、観客席に挟まれた細長...      4    4  \n",
       "4  体長より少しばかり短い、動作豊かな尻尾を持つ。片足をもう一方の足と同じ直線上に置きつつ、尻尾...      0    5  "
      ]
     },
     "execution_count": 3,
     "metadata": {},
     "output_type": "execute_result"
    }
   ],
   "source": [
    "test_data = pd.read_json('datasets/rcqa/test.jsonl', orient='records', lines=True)\n",
    "#test_data = pd.read_json('datasets/rcqa/val.jsonl', orient='records', lines=True)\n",
    "test_data.head()"
   ]
  },
  {
   "attachments": {},
   "cell_type": "markdown",
   "metadata": {},
   "source": [
    "# bert-classificationの結果整理"
   ]
  },
  {
   "attachments": {},
   "cell_type": "markdown",
   "metadata": {},
   "source": [
    "- test_dataでなくval_dataのgold, pred を出していた。n_epochを小さくして、testまで回す\n",
    "- gold, predの順序と val_data の順序が違う？ラベルが合わない。dataloaderのn_workers > 1 のせい?"
   ]
  },
  {
   "cell_type": "code",
   "execution_count": 4,
   "metadata": {},
   "outputs": [
    {
     "data": {
      "text/plain": [
       "0.476010101010101"
      ]
     },
     "execution_count": 4,
     "metadata": {},
     "output_type": "execute_result"
    }
   ],
   "source": [
    "# 途中epochで中断した結果 accuracy, precision, recall, f1 それぞれ 0.40かそれを若干切る程度\n",
    "gold = pd.read_csv('gold_labels', header=None).iloc[:, 0].values.astype('int')\n",
    "pred = pd.read_csv('pred_labels', header=None).iloc[:, 0].values.astype('int')\n",
    "\n",
    "# accuracy\n",
    "(gold == pred).sum() / len(gold)"
   ]
  },
  {
   "cell_type": "code",
   "execution_count": 5,
   "metadata": {},
   "outputs": [
    {
     "data": {
      "text/plain": [
       "0.4662698412698413"
      ]
     },
     "execution_count": 5,
     "metadata": {},
     "output_type": "execute_result"
    }
   ],
   "source": [
    "# 途中epochで中断した結果 accuracy, precision, recall, f1 それぞれ 0.40かそれを若干切る程度\n",
    "gold = pd.read_csv('outputs/cl-tohoku__bert-base-japanese-v2/2023-02-16/09-36-14/gold_labels', header=None).iloc[:, 0].values.astype('int')\n",
    "pred = pd.read_csv('outputs/cl-tohoku__bert-base-japanese-v2/2023-02-16/09-36-14/pred_labels', header=None).iloc[:, 0].values.astype('int')\n",
    "\n",
    "# accuracy\n",
    "(gold == pred).sum() / len(gold)"
   ]
  },
  {
   "cell_type": "code",
   "execution_count": 6,
   "metadata": {},
   "outputs": [
    {
     "data": {
      "image/png": "[encoded data removed]",
      "text/plain": [
       "<Figure size 640x480 with 1 Axes>"
      ]
     },
     "metadata": {},
     "output_type": "display_data"
    }
   ],
   "source": [
    "plt.hist(gold, alpha=0.3, label='gold')\n",
    "plt.title('histgram')\n",
    "plt.xlabel('y (RCQA score)')\n",
    "plt.legend()\n",
    "plt.grid()"
   ]
  },
  {
   "cell_type": "code",
   "execution_count": 7,
   "metadata": {},
   "outputs": [
    {
     "data": {
      "image/png": "[encoded data removed]",
      "text/plain": [
       "<Figure size 640x480 with 1 Axes>"
      ]
     },
     "metadata": {},
     "output_type": "display_data"
    }
   ],
   "source": [
    "plt.hist(gold[gold != pred], alpha=0.3, label='gold')\n",
    "plt.hist(pred[gold != pred], alpha=0.3, label='pred')\n",
    "plt.title('histgram (gold != pred)')\n",
    "plt.xlabel('y (RCQA score)')\n",
    "plt.legend()\n",
    "plt.grid()"
   ]
  },
  {
   "attachments": {},
   "cell_type": "markdown",
   "metadata": {},
   "source": [
    "↑ 両端でなく"
   ]
  },
  {
   "cell_type": "code",
   "execution_count": 8,
   "metadata": {},
   "outputs": [
    {
     "data": {
      "image/png": "[encoded data removed]",
      "text/plain": [
       "<Figure size 640x480 with 1 Axes>"
      ]
     },
     "metadata": {},
     "output_type": "display_data"
    }
   ],
   "source": [
    "plt.hist(gold, alpha=0.3, label='all')\n",
    "plt.hist(gold[gold == pred], alpha=0.3, label='gold == pred')\n",
    "plt.title('histgram (gold == pred)')\n",
    "plt.xlabel('y (RCQA score)')\n",
    "plt.legend()\n",
    "plt.grid()"
   ]
  },
  {
   "cell_type": "code",
   "execution_count": 9,
   "metadata": {},
   "outputs": [
    {
     "data": {
      "text/plain": [
       "0.4662698412698413"
      ]
     },
     "execution_count": 9,
     "metadata": {},
     "output_type": "execute_result"
    }
   ],
   "source": [
    "sklearn.metrics.accuracy_score(gold, pred)"
   ]
  },
  {
   "cell_type": "code",
   "execution_count": 10,
   "metadata": {},
   "outputs": [
    {
     "data": {
      "text/plain": [
       "(0.4662698412698413, 0.4662698412698413, 0.46626984126984133)"
      ]
     },
     "execution_count": 10,
     "metadata": {},
     "output_type": "execute_result"
    }
   ],
   "source": [
    "# マイクロ平均での評価指標\n",
    "sklearn.metrics.precision_score(gold, pred, average='micro'),  sklearn.metrics.recall_score(gold, pred, average='micro'), sklearn.metrics.f1_score(gold, pred, average='micro')"
   ]
  },
  {
   "cell_type": "code",
   "execution_count": 11,
   "metadata": {},
   "outputs": [
    {
     "data": {
      "text/plain": [
       "(0.3967221111636447, 0.3906848057420147, 0.3920458469868718)"
      ]
     },
     "execution_count": 11,
     "metadata": {},
     "output_type": "execute_result"
    }
   ],
   "source": [
    "# マクロ平均での評価指標\n",
    "sklearn.metrics.precision_score(gold, pred, average='macro'),  sklearn.metrics.recall_score(gold, pred, average='macro'), sklearn.metrics.f1_score(gold, pred, average='macro')"
   ]
  },
  {
   "cell_type": "code",
   "execution_count": 12,
   "metadata": {},
   "outputs": [
    {
     "data": {
      "text/plain": [
       "array([[1365,  409,  119,   70,   13,    2],\n",
       "       [ 261,  285,  123,  110,   42,    9],\n",
       "       [  57,  174,  119,  139,   87,   27],\n",
       "       [  23,   83,  114,  188,  175,   75],\n",
       "       [   7,   42,   80,  148,  195,  192],\n",
       "       [   2,   12,   38,  106,  220,  433]])"
      ]
     },
     "execution_count": 12,
     "metadata": {},
     "output_type": "execute_result"
    }
   ],
   "source": [
    "# 混同行列\n",
    "sklearn.metrics.confusion_matrix( gold, pred)\n",
    "# 行 gold, 列 pred"
   ]
  },
  {
   "attachments": {},
   "cell_type": "markdown",
   "metadata": {},
   "source": [
    "大きく予測を間違うものは何か特徴があるだろう。(gold =5, pred=0 や gold=0, pred=5のケース)"
   ]
  },
  {
   "cell_type": "code",
   "execution_count": 13,
   "metadata": {},
   "outputs": [
    {
     "data": {
      "image/png": "[encoded data removed]",
      "text/plain": [
       "<Figure size 640x480 with 1 Axes>"
      ]
     },
     "metadata": {},
     "output_type": "display_data"
    }
   ],
   "source": [
    "plt.hist(gold[gold != pred] - pred[gold != pred])\n",
    "plt.xlabel('gold - pred')\n",
    "plt.title('histgram (gold - pred) (excluding gold == pred)')\n",
    "plt.grid()"
   ]
  },
  {
   "attachments": {},
   "cell_type": "markdown",
   "metadata": {},
   "source": [
    "↑予測誤差はきれいなカーブをなしているように見える。予測誤差が小さな場合が多いので、二値判定であれば問題ない可能性がある。"
   ]
  },
  {
   "cell_type": "code",
   "execution_count": 14,
   "metadata": {},
   "outputs": [
    {
     "data": {
      "text/plain": [
       "(2585, 0.4662698412698413)"
      ]
     },
     "execution_count": 14,
     "metadata": {},
     "output_type": "execute_result"
    }
   ],
   "source": [
    "# 予測ラベル差が +/-0\n",
    "(abs(gold - pred) < 1).sum(), (abs(gold - pred) < 1).sum() / len(gold)"
   ]
  },
  {
   "cell_type": "code",
   "execution_count": 15,
   "metadata": {},
   "outputs": [
    {
     "data": {
      "text/plain": [
       "(4540, 0.8189033189033189)"
      ]
     },
     "execution_count": 15,
     "metadata": {},
     "output_type": "execute_result"
    }
   ],
   "source": [
    "# 予測ラベル差が +/-1以内\n",
    "(abs(gold - pred) < 2).sum(), (abs(gold - pred) < 2).sum() / len(gold)"
   ]
  },
  {
   "cell_type": "code",
   "execution_count": 16,
   "metadata": {},
   "outputs": [
    {
     "data": {
      "text/plain": [
       "(5257, 0.9482323232323232)"
      ]
     },
     "execution_count": 16,
     "metadata": {},
     "output_type": "execute_result"
    }
   ],
   "source": [
    "# 予測ラベル差が +/-2以内\n",
    "(abs(gold - pred) < 3).sum(), (abs(gold - pred) < 3).sum() / len(gold)"
   ]
  },
  {
   "cell_type": "code",
   "execution_count": 17,
   "metadata": {},
   "outputs": [],
   "source": [
    "# https://alaginrc.nict.go.jp/nict-bert/Experiments_on_RCQA.html\n",
    "# スコア2以上か否かの二値分類に\n",
    "gold_b, pred_b  =  gold > 1, pred > 1"
   ]
  },
  {
   "cell_type": "code",
   "execution_count": 18,
   "metadata": {},
   "outputs": [
    {
     "data": {
      "text/plain": [
       "0.8398268398268398"
      ]
     },
     "execution_count": 18,
     "metadata": {},
     "output_type": "execute_result"
    }
   ],
   "source": [
    "sklearn.metrics.accuracy_score(gold_b, pred_b)"
   ]
  },
  {
   "cell_type": "code",
   "execution_count": 19,
   "metadata": {},
   "outputs": [
    {
     "data": {
      "text/plain": [
       "(0.8398268398268398, 0.8398268398268398, 0.8398268398268398)"
      ]
     },
     "execution_count": 19,
     "metadata": {},
     "output_type": "execute_result"
    }
   ],
   "source": [
    "# マイクロ平均での評価指標\n",
    "sklearn.metrics.precision_score(gold_b, pred_b, average='micro'),  sklearn.metrics.recall_score(gold_b, pred_b, average='micro'), sklearn.metrics.f1_score(gold_b, pred_b, average='micro')"
   ]
  },
  {
   "cell_type": "code",
   "execution_count": 20,
   "metadata": {},
   "outputs": [
    {
     "data": {
      "text/plain": [
       "(0.8400683219463423, 0.8400059979007347, 0.8398255057314497)"
      ]
     },
     "execution_count": 20,
     "metadata": {},
     "output_type": "execute_result"
    }
   ],
   "source": [
    "# マクロ平均での評価指標\n",
    "sklearn.metrics.precision_score(gold_b, pred_b, average='macro'),  sklearn.metrics.recall_score(gold_b, pred_b, average='macro'), sklearn.metrics.f1_score(gold_b, pred_b, average='macro')"
   ]
  },
  {
   "cell_type": "code",
   "execution_count": 21,
   "metadata": {},
   "outputs": [
    {
     "data": {
      "text/plain": [
       "array([[2320,  488],\n",
       "       [ 400, 2336]])"
      ]
     },
     "execution_count": 21,
     "metadata": {},
     "output_type": "execute_result"
    }
   ],
   "source": [
    "# 混同行列\n",
    "sklearn.metrics.confusion_matrix(gold_b, pred_b)\n",
    "# 行 gold, 列 pred"
   ]
  },
  {
   "cell_type": "code",
   "execution_count": 22,
   "metadata": {},
   "outputs": [],
   "source": [
    "test_data['pred'] = pred\n",
    "test_data['gold'] = gold"
   ]
  },
  {
   "cell_type": "code",
   "execution_count": 36,
   "metadata": {},
   "outputs": [
    {
     "data": {
      "text/html": [
       "<div>\n",
       "<style scoped>\n",
       "    .dataframe tbody tr th:only-of-type {\n",
       "        vertical-align: middle;\n",
       "    }\n",
       "\n",
       "    .dataframe tbody tr th {\n",
       "        vertical-align: top;\n",
       "    }\n",
       "\n",
       "    .dataframe thead th {\n",
       "        text-align: right;\n",
       "    }\n",
       "</style>\n",
       "<table border=\"1\" class=\"dataframe\">\n",
       "  <thead>\n",
       "    <tr style=\"text-align: right;\">\n",
       "      <th></th>\n",
       "      <th>qid</th>\n",
       "      <th>competition</th>\n",
       "      <th>timestamp</th>\n",
       "      <th>format</th>\n",
       "      <th>question</th>\n",
       "      <th>answer</th>\n",
       "      <th>title</th>\n",
       "      <th>text</th>\n",
       "      <th>score</th>\n",
       "      <th>did</th>\n",
       "      <th>pred</th>\n",
       "      <th>gold</th>\n",
       "    </tr>\n",
       "  </thead>\n",
       "  <tbody>\n",
       "    <tr>\n",
       "      <th>115</th>\n",
       "      <td>11357</td>\n",
       "      <td>abc_08</td>\n",
       "      <td>2010-03-21</td>\n",
       "      <td>早押し</td>\n",
       "      <td>歌手ナット・キング・コールの代表曲のタイトルにもなっている、ロサンゼルスとシカゴを結んでいた...</td>\n",
       "      <td>ルート66</td>\n",
       "      <td>スプリングフィールド (ミズーリ州)</td>\n",
       "      <td>1926年、国道システムが整備され、スプリングフィールドには2本の重要な国道が創設された。1...</td>\n",
       "      <td>4</td>\n",
       "      <td>4</td>\n",
       "      <td>4</td>\n",
       "      <td>4</td>\n",
       "    </tr>\n",
       "    <tr>\n",
       "      <th>2635</th>\n",
       "      <td>11935</td>\n",
       "      <td>abc_08</td>\n",
       "      <td>2010-03-21</td>\n",
       "      <td>早押し</td>\n",
       "      <td>1階では芥川賞、2階では直木賞の選考会が開かれる、東京都の築地にある料亭の名前は何でしょう?</td>\n",
       "      <td>新喜楽</td>\n",
       "      <td>直木三十五賞</td>\n",
       "      <td>2016年現在の選考委員は、浅田次郎、伊集院静、北方謙三、桐野夏生、高村薫、林真理子、東野圭...</td>\n",
       "      <td>5</td>\n",
       "      <td>1</td>\n",
       "      <td>5</td>\n",
       "      <td>5</td>\n",
       "    </tr>\n",
       "    <tr>\n",
       "      <th>299</th>\n",
       "      <td>11401</td>\n",
       "      <td>abc_08</td>\n",
       "      <td>2010-03-21</td>\n",
       "      <td>早押し</td>\n",
       "      <td>その中に「ローマは三度世界を統一した」というフレーズが登場する、ドイツの法学者イェーリングの...</td>\n",
       "      <td>ローマ法の精神</td>\n",
       "      <td>ルドルフ・フォン・イェーリング</td>\n",
       "      <td>1836年ハイデルベルク大学に入学し、その後ゲッティンゲン、ミュンヘンでも大学生活を送り、1...</td>\n",
       "      <td>1</td>\n",
       "      <td>3</td>\n",
       "      <td>1</td>\n",
       "      <td>1</td>\n",
       "    </tr>\n",
       "    <tr>\n",
       "      <th>3495</th>\n",
       "      <td>12139</td>\n",
       "      <td>abc_08</td>\n",
       "      <td>2010-03-21</td>\n",
       "      <td>早押し</td>\n",
       "      <td>「砂」を意味するラテン語を語源とする、周りを階段状の観客席で囲まれた競技場やコンサート会場な...</td>\n",
       "      <td>アリーナ</td>\n",
       "      <td>ホース・ガーズ・パレード</td>\n",
       "      <td>2012年には、ロンドン五輪のビーチバレー競技会場として使用された。アリーナと観覧席は、6月...</td>\n",
       "      <td>0</td>\n",
       "      <td>2</td>\n",
       "      <td>0</td>\n",
       "      <td>0</td>\n",
       "    </tr>\n",
       "    <tr>\n",
       "      <th>2853</th>\n",
       "      <td>11989</td>\n",
       "      <td>abc_08</td>\n",
       "      <td>2010-03-21</td>\n",
       "      <td>早押し</td>\n",
       "      <td>マラソン競技で、一定の距離ごとに計られる所要時間のことを何というでしょう?</td>\n",
       "      <td>スプリットタイム</td>\n",
       "      <td>ブリギット・マクマホン</td>\n",
       "      <td>マクマホーンはシドニーオリンピックでオリンピック初出場を果たした。そして現在も女子のトライア...</td>\n",
       "      <td>0</td>\n",
       "      <td>3</td>\n",
       "      <td>0</td>\n",
       "      <td>0</td>\n",
       "    </tr>\n",
       "  </tbody>\n",
       "</table>\n",
       "</div>"
      ],
      "text/plain": [
       "        qid competition  timestamp format  \\\n",
       "115   11357      abc_08 2010-03-21    早押し   \n",
       "2635  11935      abc_08 2010-03-21    早押し   \n",
       "299   11401      abc_08 2010-03-21    早押し   \n",
       "3495  12139      abc_08 2010-03-21    早押し   \n",
       "2853  11989      abc_08 2010-03-21    早押し   \n",
       "\n",
       "                                               question    answer  \\\n",
       "115   歌手ナット・キング・コールの代表曲のタイトルにもなっている、ロサンゼルスとシカゴを結んでいた...     ルート66   \n",
       "2635     1階では芥川賞、2階では直木賞の選考会が開かれる、東京都の築地にある料亭の名前は何でしょう?       新喜楽   \n",
       "299   その中に「ローマは三度世界を統一した」というフレーズが登場する、ドイツの法学者イェーリングの...   ローマ法の精神   \n",
       "3495  「砂」を意味するラテン語を語源とする、周りを階段状の観客席で囲まれた競技場やコンサート会場な...      アリーナ   \n",
       "2853              マラソン競技で、一定の距離ごとに計られる所要時間のことを何というでしょう?  スプリットタイム   \n",
       "\n",
       "                   title                                               text  \\\n",
       "115   スプリングフィールド (ミズーリ州)  1926年、国道システムが整備され、スプリングフィールドには2本の重要な国道が創設された。1...   \n",
       "2635              直木三十五賞  2016年現在の選考委員は、浅田次郎、伊集院静、北方謙三、桐野夏生、高村薫、林真理子、東野圭...   \n",
       "299      ルドルフ・フォン・イェーリング  1836年ハイデルベルク大学に入学し、その後ゲッティンゲン、ミュンヘンでも大学生活を送り、1...   \n",
       "3495        ホース・ガーズ・パレード  2012年には、ロンドン五輪のビーチバレー競技会場として使用された。アリーナと観覧席は、6月...   \n",
       "2853         ブリギット・マクマホン  マクマホーンはシドニーオリンピックでオリンピック初出場を果たした。そして現在も女子のトライア...   \n",
       "\n",
       "      score  did  pred  gold  \n",
       "115       4    4     4     4  \n",
       "2635      5    1     5     5  \n",
       "299       1    3     1     1  \n",
       "3495      0    2     0     0  \n",
       "2853      0    3     0     0  "
      ]
     },
     "execution_count": 36,
     "metadata": {},
     "output_type": "execute_result"
    }
   ],
   "source": [
    "index = np.random.choice(test_data[(abs(gold - pred) == 0)].index, size=5)\n",
    "test_data.iloc[index]"
   ]
  },
  {
   "cell_type": "code",
   "execution_count": 98,
   "metadata": {},
   "outputs": [
    {
     "data": {
      "text/html": [
       "<div>\n",
       "<style scoped>\n",
       "    .dataframe tbody tr th:only-of-type {\n",
       "        vertical-align: middle;\n",
       "    }\n",
       "\n",
       "    .dataframe tbody tr th {\n",
       "        vertical-align: top;\n",
       "    }\n",
       "\n",
       "    .dataframe thead th {\n",
       "        text-align: right;\n",
       "    }\n",
       "</style>\n",
       "<table border=\"1\" class=\"dataframe\">\n",
       "  <thead>\n",
       "    <tr style=\"text-align: right;\">\n",
       "      <th></th>\n",
       "      <th>qid</th>\n",
       "      <th>competition</th>\n",
       "      <th>timestamp</th>\n",
       "      <th>format</th>\n",
       "      <th>question</th>\n",
       "      <th>answer</th>\n",
       "      <th>title</th>\n",
       "      <th>text</th>\n",
       "      <th>score</th>\n",
       "      <th>did</th>\n",
       "      <th>pred</th>\n",
       "      <th>gold</th>\n",
       "    </tr>\n",
       "  </thead>\n",
       "  <tbody>\n",
       "    <tr>\n",
       "      <th>2</th>\n",
       "      <td>11333</td>\n",
       "      <td>abc_08</td>\n",
       "      <td>2010-03-21</td>\n",
       "      <td>早押し</td>\n",
       "      <td>ファッションショーにおいてモデルが歩く、客席に突き出したステージのことを何というでしょう?</td>\n",
       "      <td>キャットウォーク</td>\n",
       "      <td>仙台コレクション</td>\n",
       "      <td>屋内で開催される同種のリアル・クローズのファッションショーで見られる出展ブランドの特設直販ブ...</td>\n",
       "      <td>0</td>\n",
       "      <td>3</td>\n",
       "      <td>0</td>\n",
       "      <td>0</td>\n",
       "    </tr>\n",
       "    <tr>\n",
       "      <th>5</th>\n",
       "      <td>11334</td>\n",
       "      <td>abc_08</td>\n",
       "      <td>2010-03-21</td>\n",
       "      <td>早押し</td>\n",
       "      <td>くちばしが左右互い違いになっていることから、物事が食い違っていることのたとえにも用いられるア...</td>\n",
       "      <td>イスカ</td>\n",
       "      <td>イスカ</td>\n",
       "      <td>イスカのくちばしは左右互い違いになっており、このくちばしを使って、マツやモミなどの針葉樹の種...</td>\n",
       "      <td>5</td>\n",
       "      <td>1</td>\n",
       "      <td>5</td>\n",
       "      <td>5</td>\n",
       "    </tr>\n",
       "    <tr>\n",
       "      <th>6</th>\n",
       "      <td>11334</td>\n",
       "      <td>abc_08</td>\n",
       "      <td>2010-03-21</td>\n",
       "      <td>早押し</td>\n",
       "      <td>くちばしが左右互い違いになっていることから、物事が食い違っていることのたとえにも用いられるア...</td>\n",
       "      <td>イスカ</td>\n",
       "      <td>イスカ</td>\n",
       "      <td>イスカ(交喙、鶍、学名\"Loxia curvirostra\")は、スズメ目アトリ科に分類され...</td>\n",
       "      <td>0</td>\n",
       "      <td>2</td>\n",
       "      <td>0</td>\n",
       "      <td>0</td>\n",
       "    </tr>\n",
       "    <tr>\n",
       "      <th>7</th>\n",
       "      <td>11334</td>\n",
       "      <td>abc_08</td>\n",
       "      <td>2010-03-21</td>\n",
       "      <td>早押し</td>\n",
       "      <td>くちばしが左右互い違いになっていることから、物事が食い違っていることのたとえにも用いられるア...</td>\n",
       "      <td>イスカ</td>\n",
       "      <td>ナキイスカ</td>\n",
       "      <td>日本では数少ない冬鳥として、本州中部以北に少数が渡来する。イスカの群れに混じっていることが多い。</td>\n",
       "      <td>0</td>\n",
       "      <td>3</td>\n",
       "      <td>0</td>\n",
       "      <td>0</td>\n",
       "    </tr>\n",
       "    <tr>\n",
       "      <th>9</th>\n",
       "      <td>11335</td>\n",
       "      <td>abc_08</td>\n",
       "      <td>2010-03-21</td>\n",
       "      <td>早押し</td>\n",
       "      <td>ダーツの矢の、先端部分を「ティップ」といいますが、後ろの羽根の部分を何というでしょう?</td>\n",
       "      <td>フライト</td>\n",
       "      <td>ダーツ</td>\n",
       "      <td>シャフトとはダーツ後部のフライトが取り付けられている部分であり、矢で言うところの箆(の)の後...</td>\n",
       "      <td>2</td>\n",
       "      <td>1</td>\n",
       "      <td>2</td>\n",
       "      <td>2</td>\n",
       "    </tr>\n",
       "  </tbody>\n",
       "</table>\n",
       "</div>"
      ],
      "text/plain": [
       "     qid competition  timestamp format  \\\n",
       "2  11333      abc_08 2010-03-21    早押し   \n",
       "5  11334      abc_08 2010-03-21    早押し   \n",
       "6  11334      abc_08 2010-03-21    早押し   \n",
       "7  11334      abc_08 2010-03-21    早押し   \n",
       "9  11335      abc_08 2010-03-21    早押し   \n",
       "\n",
       "                                            question    answer     title  \\\n",
       "2      ファッションショーにおいてモデルが歩く、客席に突き出したステージのことを何というでしょう?  キャットウォーク  仙台コレクション   \n",
       "5  くちばしが左右互い違いになっていることから、物事が食い違っていることのたとえにも用いられるア...       イスカ       イスカ   \n",
       "6  くちばしが左右互い違いになっていることから、物事が食い違っていることのたとえにも用いられるア...       イスカ       イスカ   \n",
       "7  くちばしが左右互い違いになっていることから、物事が食い違っていることのたとえにも用いられるア...       イスカ     ナキイスカ   \n",
       "9        ダーツの矢の、先端部分を「ティップ」といいますが、後ろの羽根の部分を何というでしょう?      フライト       ダーツ   \n",
       "\n",
       "                                                text  score  did  pred  gold  \n",
       "2  屋内で開催される同種のリアル・クローズのファッションショーで見られる出展ブランドの特設直販ブ...      0    3     0     0  \n",
       "5  イスカのくちばしは左右互い違いになっており、このくちばしを使って、マツやモミなどの針葉樹の種...      5    1     5     5  \n",
       "6  イスカ(交喙、鶍、学名\"Loxia curvirostra\")は、スズメ目アトリ科に分類され...      0    2     0     0  \n",
       "7   日本では数少ない冬鳥として、本州中部以北に少数が渡来する。イスカの群れに混じっていることが多い。      0    3     0     0  \n",
       "9  シャフトとはダーツ後部のフライトが取り付けられている部分であり、矢で言うところの箆(の)の後...      2    1     2     2  "
      ]
     },
     "execution_count": 98,
     "metadata": {},
     "output_type": "execute_result"
    }
   ],
   "source": [
    "# 一致しているもののサンプル\n",
    "test_data[(abs(gold - pred) == 0)].head()"
   ]
  },
  {
   "cell_type": "code",
   "execution_count": 42,
   "metadata": {},
   "outputs": [
    {
     "data": {
      "text/html": [
       "<div>\n",
       "<style scoped>\n",
       "    .dataframe tbody tr th:only-of-type {\n",
       "        vertical-align: middle;\n",
       "    }\n",
       "\n",
       "    .dataframe tbody tr th {\n",
       "        vertical-align: top;\n",
       "    }\n",
       "\n",
       "    .dataframe thead th {\n",
       "        text-align: right;\n",
       "    }\n",
       "</style>\n",
       "<table border=\"1\" class=\"dataframe\">\n",
       "  <thead>\n",
       "    <tr style=\"text-align: right;\">\n",
       "      <th></th>\n",
       "      <th>qid</th>\n",
       "      <th>competition</th>\n",
       "      <th>timestamp</th>\n",
       "      <th>format</th>\n",
       "      <th>question</th>\n",
       "      <th>answer</th>\n",
       "      <th>title</th>\n",
       "      <th>text</th>\n",
       "      <th>score</th>\n",
       "      <th>did</th>\n",
       "      <th>pred</th>\n",
       "      <th>gold</th>\n",
       "    </tr>\n",
       "  </thead>\n",
       "  <tbody>\n",
       "    <tr>\n",
       "      <th>252</th>\n",
       "      <td>11390</td>\n",
       "      <td>abc_08</td>\n",
       "      <td>2010-03-21</td>\n",
       "      <td>早押し</td>\n",
       "      <td>室町時代に起こった応仁の乱で、東軍の大将は細川勝元ですが、西軍の大将は誰でしょう?</td>\n",
       "      <td>山名宗全</td>\n",
       "      <td>竹田城</td>\n",
       "      <td>応仁元年(1467年)、細川勝元と山名宗全の争いが一因で応仁の乱が起こると但馬は細川氏と山名...</td>\n",
       "      <td>4</td>\n",
       "      <td>3</td>\n",
       "      <td>0</td>\n",
       "      <td>4</td>\n",
       "    </tr>\n",
       "    <tr>\n",
       "      <th>394</th>\n",
       "      <td>11422</td>\n",
       "      <td>abc_08</td>\n",
       "      <td>2010-03-21</td>\n",
       "      <td>早押し</td>\n",
       "      <td>日本から見るカシオペア座や北斗七星などのように、一日中地平線に沈まない星のことを何というでしょう?</td>\n",
       "      <td>周極星</td>\n",
       "      <td>ケンタウルス座アルファ星</td>\n",
       "      <td>南緯29度以南になると、ケンタウルス座α星は周極星になり、地平線の下に沈む事はない。ケンタウ...</td>\n",
       "      <td>5</td>\n",
       "      <td>3</td>\n",
       "      <td>1</td>\n",
       "      <td>5</td>\n",
       "    </tr>\n",
       "    <tr>\n",
       "      <th>418</th>\n",
       "      <td>11428</td>\n",
       "      <td>abc_08</td>\n",
       "      <td>2010-03-21</td>\n",
       "      <td>早押し</td>\n",
       "      <td>近代建築の四巨匠に数えられるドイツの建築家で、造形芸術学校バウハウスを創立し、その初代校長を...</td>\n",
       "      <td>ヴァルター・グロピウス</td>\n",
       "      <td>マルティン・グロピウス</td>\n",
       "      <td>マルティン・グロピウス (Martin Gropius, 1824年8月11日ベルリン - ...</td>\n",
       "      <td>1</td>\n",
       "      <td>1</td>\n",
       "      <td>5</td>\n",
       "      <td>1</td>\n",
       "    </tr>\n",
       "    <tr>\n",
       "      <th>477</th>\n",
       "      <td>11440</td>\n",
       "      <td>abc_08</td>\n",
       "      <td>2010-03-21</td>\n",
       "      <td>早押し</td>\n",
       "      <td>白石一文の直木賞受賞作は『ほかならぬ人へ』ですが、その父である白石一郎の直木賞受賞作は何でしょう?</td>\n",
       "      <td>海狼伝</td>\n",
       "      <td>白石一郎</td>\n",
       "      <td>直木賞には、「孤島の騎士」(1970)、「火炎城」(1974)、「一炊の夢」「幻島記」(19...</td>\n",
       "      <td>4</td>\n",
       "      <td>1</td>\n",
       "      <td>0</td>\n",
       "      <td>4</td>\n",
       "    </tr>\n",
       "    <tr>\n",
       "      <th>478</th>\n",
       "      <td>11440</td>\n",
       "      <td>abc_08</td>\n",
       "      <td>2010-03-21</td>\n",
       "      <td>早押し</td>\n",
       "      <td>白石一文の直木賞受賞作は『ほかならぬ人へ』ですが、その父である白石一郎の直木賞受賞作は何でしょう?</td>\n",
       "      <td>海狼伝</td>\n",
       "      <td>白石一郎</td>\n",
       "      <td>代表作は直木賞を受賞した『海狼伝』で、ほかにも「海」を舞台にした(または「海」を冠した)作品...</td>\n",
       "      <td>5</td>\n",
       "      <td>2</td>\n",
       "      <td>0</td>\n",
       "      <td>5</td>\n",
       "    </tr>\n",
       "  </tbody>\n",
       "</table>\n",
       "</div>"
      ],
      "text/plain": [
       "       qid competition  timestamp format  \\\n",
       "252  11390      abc_08 2010-03-21    早押し   \n",
       "394  11422      abc_08 2010-03-21    早押し   \n",
       "418  11428      abc_08 2010-03-21    早押し   \n",
       "477  11440      abc_08 2010-03-21    早押し   \n",
       "478  11440      abc_08 2010-03-21    早押し   \n",
       "\n",
       "                                              question       answer  \\\n",
       "252          室町時代に起こった応仁の乱で、東軍の大将は細川勝元ですが、西軍の大将は誰でしょう?         山名宗全   \n",
       "394  日本から見るカシオペア座や北斗七星などのように、一日中地平線に沈まない星のことを何というでしょう?          周極星   \n",
       "418  近代建築の四巨匠に数えられるドイツの建築家で、造形芸術学校バウハウスを創立し、その初代校長を...  ヴァルター・グロピウス   \n",
       "477  白石一文の直木賞受賞作は『ほかならぬ人へ』ですが、その父である白石一郎の直木賞受賞作は何でしょう?          海狼伝   \n",
       "478  白石一文の直木賞受賞作は『ほかならぬ人へ』ですが、その父である白石一郎の直木賞受賞作は何でしょう?          海狼伝   \n",
       "\n",
       "            title                                               text  score  \\\n",
       "252           竹田城  応仁元年(1467年)、細川勝元と山名宗全の争いが一因で応仁の乱が起こると但馬は細川氏と山名...      4   \n",
       "394  ケンタウルス座アルファ星  南緯29度以南になると、ケンタウルス座α星は周極星になり、地平線の下に沈む事はない。ケンタウ...      5   \n",
       "418   マルティン・グロピウス  マルティン・グロピウス (Martin Gropius, 1824年8月11日ベルリン - ...      1   \n",
       "477          白石一郎  直木賞には、「孤島の騎士」(1970)、「火炎城」(1974)、「一炊の夢」「幻島記」(19...      4   \n",
       "478          白石一郎  代表作は直木賞を受賞した『海狼伝』で、ほかにも「海」を舞台にした(または「海」を冠した)作品...      5   \n",
       "\n",
       "     did  pred  gold  \n",
       "252    3     0     4  \n",
       "394    3     1     5  \n",
       "418    1     5     1  \n",
       "477    1     0     4  \n",
       "478    2     0     5  "
      ]
     },
     "execution_count": 42,
     "metadata": {},
     "output_type": "execute_result"
    }
   ],
   "source": [
    "# 予測が極端に異なるもの goldが高いものは予測を的中させたい\n",
    "test_data[(abs(gold - pred) > 3)].head()"
   ]
  },
  {
   "cell_type": "code",
   "execution_count": 44,
   "metadata": {},
   "outputs": [
    {
     "data": {
      "text/html": [
       "<div>\n",
       "<style scoped>\n",
       "    .dataframe tbody tr th:only-of-type {\n",
       "        vertical-align: middle;\n",
       "    }\n",
       "\n",
       "    .dataframe tbody tr th {\n",
       "        vertical-align: top;\n",
       "    }\n",
       "\n",
       "    .dataframe thead th {\n",
       "        text-align: right;\n",
       "    }\n",
       "</style>\n",
       "<table border=\"1\" class=\"dataframe\">\n",
       "  <thead>\n",
       "    <tr style=\"text-align: right;\">\n",
       "      <th></th>\n",
       "      <th>qid</th>\n",
       "      <th>competition</th>\n",
       "      <th>timestamp</th>\n",
       "      <th>format</th>\n",
       "      <th>question</th>\n",
       "      <th>answer</th>\n",
       "      <th>title</th>\n",
       "      <th>text</th>\n",
       "      <th>score</th>\n",
       "      <th>did</th>\n",
       "      <th>pred</th>\n",
       "      <th>gold</th>\n",
       "    </tr>\n",
       "  </thead>\n",
       "  <tbody>\n",
       "    <tr>\n",
       "      <th>3337</th>\n",
       "      <td>12104</td>\n",
       "      <td>abc_08</td>\n",
       "      <td>2010-03-21</td>\n",
       "      <td>早押し</td>\n",
       "      <td>別名を「シロバナムシヨケギク」という、ピレトリンという成分を含むため殺虫剤の原料に使用される...</td>\n",
       "      <td>除虫菊</td>\n",
       "      <td>ピレスロイド</td>\n",
       "      <td>ピレスロイド (pyrethroid) とは、除虫菊 (\"Tanacetum cinerar...</td>\n",
       "      <td>0</td>\n",
       "      <td>4</td>\n",
       "      <td>4</td>\n",
       "      <td>0</td>\n",
       "    </tr>\n",
       "    <tr>\n",
       "      <th>5232</th>\n",
       "      <td>12523</td>\n",
       "      <td>EQIDEN_2010</td>\n",
       "      <td>2010-03-21</td>\n",
       "      <td>早押し</td>\n",
       "      <td>毎年秋に中山競馬場で開催される重賞レースにその名が冠せられている、日本競馬史上初のクラシック...</td>\n",
       "      <td>セントライト</td>\n",
       "      <td>シンボリルドルフ</td>\n",
       "      <td>秋緒戦、故障した右肩も回復し、すっかりリフレッシュしたシンボリルドルフはセントライト記念(中...</td>\n",
       "      <td>0</td>\n",
       "      <td>4</td>\n",
       "      <td>4</td>\n",
       "      <td>0</td>\n",
       "    </tr>\n",
       "    <tr>\n",
       "      <th>4599</th>\n",
       "      <td>12385</td>\n",
       "      <td>EQIDEN_2010</td>\n",
       "      <td>2010-03-21</td>\n",
       "      <td>早押し</td>\n",
       "      <td>アルキメデスがその原理を発見したとされる、「ある物質を流体に沈めた時、重力とは逆の方向に作用...</td>\n",
       "      <td>浮力</td>\n",
       "      <td>Eureka</td>\n",
       "      <td>なお、このとき発見したのは、今日アルキメデスの原理として知られているものではない。アルキメデ...</td>\n",
       "      <td>0</td>\n",
       "      <td>2</td>\n",
       "      <td>4</td>\n",
       "      <td>0</td>\n",
       "    </tr>\n",
       "    <tr>\n",
       "      <th>4379</th>\n",
       "      <td>12335</td>\n",
       "      <td>EQIDEN_2010</td>\n",
       "      <td>2010-03-21</td>\n",
       "      <td>早押し</td>\n",
       "      <td>腐食しにくく摩耗しづらいことから高級万年筆のペン先に用いられることもある、原子番号77、元素...</td>\n",
       "      <td>イリジウム</td>\n",
       "      <td>貴金属</td>\n",
       "      <td>貴金属(ききんぞく、precious metal)は、化学としては金 (Au)、銀 (Ag)...</td>\n",
       "      <td>0</td>\n",
       "      <td>4</td>\n",
       "      <td>4</td>\n",
       "      <td>0</td>\n",
       "    </tr>\n",
       "    <tr>\n",
       "      <th>3909</th>\n",
       "      <td>12235</td>\n",
       "      <td>EQIDEN_2010</td>\n",
       "      <td>2010-03-21</td>\n",
       "      <td>早押し</td>\n",
       "      <td>ジェームズ・バリーの童話『ピーターパン』で、フック船長が嫌いな動物は何でしょう?</td>\n",
       "      <td>ワニ</td>\n",
       "      <td>ピーター・パン (1953年の映画)</td>\n",
       "      <td>原作はジェームス・マシュー・バリーの戯曲『大人になりたくないピーターパン』。それをウォルト・...</td>\n",
       "      <td>0</td>\n",
       "      <td>1</td>\n",
       "      <td>4</td>\n",
       "      <td>0</td>\n",
       "    </tr>\n",
       "  </tbody>\n",
       "</table>\n",
       "</div>"
      ],
      "text/plain": [
       "        qid  competition  timestamp format  \\\n",
       "3337  12104       abc_08 2010-03-21    早押し   \n",
       "5232  12523  EQIDEN_2010 2010-03-21    早押し   \n",
       "4599  12385  EQIDEN_2010 2010-03-21    早押し   \n",
       "4379  12335  EQIDEN_2010 2010-03-21    早押し   \n",
       "3909  12235  EQIDEN_2010 2010-03-21    早押し   \n",
       "\n",
       "                                               question  answer  \\\n",
       "3337  別名を「シロバナムシヨケギク」という、ピレトリンという成分を含むため殺虫剤の原料に使用される...     除虫菊   \n",
       "5232  毎年秋に中山競馬場で開催される重賞レースにその名が冠せられている、日本競馬史上初のクラシック...  セントライト   \n",
       "4599  アルキメデスがその原理を発見したとされる、「ある物質を流体に沈めた時、重力とは逆の方向に作用...      浮力   \n",
       "4379  腐食しにくく摩耗しづらいことから高級万年筆のペン先に用いられることもある、原子番号77、元素...   イリジウム   \n",
       "3909           ジェームズ・バリーの童話『ピーターパン』で、フック船長が嫌いな動物は何でしょう?      ワニ   \n",
       "\n",
       "                   title                                               text  \\\n",
       "3337              ピレスロイド  ピレスロイド (pyrethroid) とは、除虫菊 (\"Tanacetum cinerar...   \n",
       "5232            シンボリルドルフ  秋緒戦、故障した右肩も回復し、すっかりリフレッシュしたシンボリルドルフはセントライト記念(中...   \n",
       "4599              Eureka  なお、このとき発見したのは、今日アルキメデスの原理として知られているものではない。アルキメデ...   \n",
       "4379                 貴金属  貴金属(ききんぞく、precious metal)は、化学としては金 (Au)、銀 (Ag)...   \n",
       "3909  ピーター・パン (1953年の映画)  原作はジェームス・マシュー・バリーの戯曲『大人になりたくないピーターパン』。それをウォルト・...   \n",
       "\n",
       "      score  did  pred  gold  \n",
       "3337      0    4     4     0  \n",
       "5232      0    4     4     0  \n",
       "4599      0    2     4     0  \n",
       "4379      0    4     4     0  \n",
       "3909      0    1     4     0  "
      ]
     },
     "execution_count": 44,
     "metadata": {},
     "output_type": "execute_result"
    }
   ],
   "source": [
    "# 予測が極端に異なるもの goldが高いものは予測を的中させたい\n",
    "test_data[(abs(gold - pred) > 3)].sort_values(by='score', ascending=True).head()"
   ]
  },
  {
   "cell_type": "code",
   "execution_count": 45,
   "metadata": {},
   "outputs": [
    {
     "data": {
      "text/html": [
       "<div>\n",
       "<style scoped>\n",
       "    .dataframe tbody tr th:only-of-type {\n",
       "        vertical-align: middle;\n",
       "    }\n",
       "\n",
       "    .dataframe tbody tr th {\n",
       "        vertical-align: top;\n",
       "    }\n",
       "\n",
       "    .dataframe thead th {\n",
       "        text-align: right;\n",
       "    }\n",
       "</style>\n",
       "<table border=\"1\" class=\"dataframe\">\n",
       "  <thead>\n",
       "    <tr style=\"text-align: right;\">\n",
       "      <th></th>\n",
       "      <th>qid</th>\n",
       "      <th>competition</th>\n",
       "      <th>timestamp</th>\n",
       "      <th>format</th>\n",
       "      <th>question</th>\n",
       "      <th>answer</th>\n",
       "      <th>title</th>\n",
       "      <th>text</th>\n",
       "      <th>score</th>\n",
       "      <th>did</th>\n",
       "      <th>pred</th>\n",
       "      <th>gold</th>\n",
       "    </tr>\n",
       "  </thead>\n",
       "  <tbody>\n",
       "    <tr>\n",
       "      <th>4591</th>\n",
       "      <td>12383</td>\n",
       "      <td>EQIDEN_2010</td>\n",
       "      <td>2010-03-21</td>\n",
       "      <td>早押し</td>\n",
       "      <td>日本の国旗の赤い丸は太陽を意味していますが、パラオの国旗の黄色い丸はどんな天体を意味している...</td>\n",
       "      <td>月</td>\n",
       "      <td>パラオの国旗</td>\n",
       "      <td>2010年10月に元埼玉県立大学教授で国旗に詳しい吹浦忠正(現ユーラシア21研究所理事長)は...</td>\n",
       "      <td>5</td>\n",
       "      <td>4</td>\n",
       "      <td>1</td>\n",
       "      <td>5</td>\n",
       "    </tr>\n",
       "    <tr>\n",
       "      <th>5388</th>\n",
       "      <td>12557</td>\n",
       "      <td>EQIDEN_2010</td>\n",
       "      <td>2010-03-21</td>\n",
       "      <td>早押し</td>\n",
       "      <td>1953年のミス・ユニバースで3位に入賞し、「八頭身美人」という流行語を生んだ日本のモデルは...</td>\n",
       "      <td>伊東絹子</td>\n",
       "      <td>ミス・ユニバース・ジャパン</td>\n",
       "      <td>日本代表は1950年代、合計3人が上位入賞(総合5位以内)するという結果を残し、1953年(...</td>\n",
       "      <td>5</td>\n",
       "      <td>1</td>\n",
       "      <td>1</td>\n",
       "      <td>5</td>\n",
       "    </tr>\n",
       "    <tr>\n",
       "      <th>394</th>\n",
       "      <td>11422</td>\n",
       "      <td>abc_08</td>\n",
       "      <td>2010-03-21</td>\n",
       "      <td>早押し</td>\n",
       "      <td>日本から見るカシオペア座や北斗七星などのように、一日中地平線に沈まない星のことを何というでしょう?</td>\n",
       "      <td>周極星</td>\n",
       "      <td>ケンタウルス座アルファ星</td>\n",
       "      <td>南緯29度以南になると、ケンタウルス座α星は周極星になり、地平線の下に沈む事はない。ケンタウ...</td>\n",
       "      <td>5</td>\n",
       "      <td>3</td>\n",
       "      <td>1</td>\n",
       "      <td>5</td>\n",
       "    </tr>\n",
       "    <tr>\n",
       "      <th>1824</th>\n",
       "      <td>11745</td>\n",
       "      <td>abc_08</td>\n",
       "      <td>2010-03-21</td>\n",
       "      <td>早押し</td>\n",
       "      <td>アインシュタインが提唱した「一般相対性理論」と「特殊相対性理論」のうち、先に発表されたのはど...</td>\n",
       "      <td>特殊相対性理論</td>\n",
       "      <td>一般相対性理論</td>\n",
       "      <td>一般相対性理論(いっぱんそうたいせいりろん、, )は、アルベルト・アインシュタインが1905...</td>\n",
       "      <td>5</td>\n",
       "      <td>2</td>\n",
       "      <td>1</td>\n",
       "      <td>5</td>\n",
       "    </tr>\n",
       "    <tr>\n",
       "      <th>5237</th>\n",
       "      <td>12524</td>\n",
       "      <td>EQIDEN_2010</td>\n",
       "      <td>2010-03-21</td>\n",
       "      <td>早押し</td>\n",
       "      <td>インカ帝国を滅ぼしたのはフランシスコ・ピサロですが、アステカ帝国を滅ぼしたのは誰でしょう?</td>\n",
       "      <td>エルナン・コルテス</td>\n",
       "      <td>近世における世界の一体化</td>\n",
       "      <td>当時の南北アメリカには、先史時代にアジアからベーリング海峡を渡った人々が独自の文明を発達させ...</td>\n",
       "      <td>5</td>\n",
       "      <td>4</td>\n",
       "      <td>1</td>\n",
       "      <td>5</td>\n",
       "    </tr>\n",
       "  </tbody>\n",
       "</table>\n",
       "</div>"
      ],
      "text/plain": [
       "        qid  competition  timestamp format  \\\n",
       "4591  12383  EQIDEN_2010 2010-03-21    早押し   \n",
       "5388  12557  EQIDEN_2010 2010-03-21    早押し   \n",
       "394   11422       abc_08 2010-03-21    早押し   \n",
       "1824  11745       abc_08 2010-03-21    早押し   \n",
       "5237  12524  EQIDEN_2010 2010-03-21    早押し   \n",
       "\n",
       "                                               question     answer  \\\n",
       "4591  日本の国旗の赤い丸は太陽を意味していますが、パラオの国旗の黄色い丸はどんな天体を意味している...          月   \n",
       "5388  1953年のミス・ユニバースで3位に入賞し、「八頭身美人」という流行語を生んだ日本のモデルは...       伊東絹子   \n",
       "394   日本から見るカシオペア座や北斗七星などのように、一日中地平線に沈まない星のことを何というでしょう?        周極星   \n",
       "1824  アインシュタインが提唱した「一般相対性理論」と「特殊相対性理論」のうち、先に発表されたのはど...    特殊相対性理論   \n",
       "5237      インカ帝国を滅ぼしたのはフランシスコ・ピサロですが、アステカ帝国を滅ぼしたのは誰でしょう?  エルナン・コルテス   \n",
       "\n",
       "              title                                               text  score  \\\n",
       "4591         パラオの国旗  2010年10月に元埼玉県立大学教授で国旗に詳しい吹浦忠正(現ユーラシア21研究所理事長)は...      5   \n",
       "5388  ミス・ユニバース・ジャパン  日本代表は1950年代、合計3人が上位入賞(総合5位以内)するという結果を残し、1953年(...      5   \n",
       "394    ケンタウルス座アルファ星  南緯29度以南になると、ケンタウルス座α星は周極星になり、地平線の下に沈む事はない。ケンタウ...      5   \n",
       "1824        一般相対性理論  一般相対性理論(いっぱんそうたいせいりろん、, )は、アルベルト・アインシュタインが1905...      5   \n",
       "5237   近世における世界の一体化  当時の南北アメリカには、先史時代にアジアからベーリング海峡を渡った人々が独自の文明を発達させ...      5   \n",
       "\n",
       "      did  pred  gold  \n",
       "4591    4     1     5  \n",
       "5388    1     1     5  \n",
       "394     3     1     5  \n",
       "1824    2     1     5  \n",
       "5237    4     1     5  "
      ]
     },
     "execution_count": 45,
     "metadata": {},
     "output_type": "execute_result"
    }
   ],
   "source": [
    "# 予測が極端に異なるもの goldが高いものは予測を的中させたい\n",
    "test_data[(abs(gold - pred) > 3)].sort_values(by='score', ascending=False).head()"
   ]
  },
  {
   "cell_type": "code",
   "execution_count": 40,
   "metadata": {},
   "outputs": [
    {
     "data": {
      "text/html": [
       "<div>\n",
       "<style scoped>\n",
       "    .dataframe tbody tr th:only-of-type {\n",
       "        vertical-align: middle;\n",
       "    }\n",
       "\n",
       "    .dataframe tbody tr th {\n",
       "        vertical-align: top;\n",
       "    }\n",
       "\n",
       "    .dataframe thead th {\n",
       "        text-align: right;\n",
       "    }\n",
       "</style>\n",
       "<table border=\"1\" class=\"dataframe\">\n",
       "  <thead>\n",
       "    <tr style=\"text-align: right;\">\n",
       "      <th></th>\n",
       "      <th>qid</th>\n",
       "      <th>competition</th>\n",
       "      <th>timestamp</th>\n",
       "      <th>format</th>\n",
       "      <th>question</th>\n",
       "      <th>answer</th>\n",
       "      <th>title</th>\n",
       "      <th>text</th>\n",
       "      <th>score</th>\n",
       "      <th>did</th>\n",
       "      <th>pred</th>\n",
       "      <th>gold</th>\n",
       "    </tr>\n",
       "  </thead>\n",
       "  <tbody>\n",
       "    <tr>\n",
       "      <th>394</th>\n",
       "      <td>11422</td>\n",
       "      <td>abc_08</td>\n",
       "      <td>2010-03-21</td>\n",
       "      <td>早押し</td>\n",
       "      <td>日本から見るカシオペア座や北斗七星などのように、一日中地平線に沈まない星のことを何というでしょう?</td>\n",
       "      <td>周極星</td>\n",
       "      <td>ケンタウルス座アルファ星</td>\n",
       "      <td>南緯29度以南になると、ケンタウルス座α星は周極星になり、地平線の下に沈む事はない。ケンタウ...</td>\n",
       "      <td>5</td>\n",
       "      <td>3</td>\n",
       "      <td>1</td>\n",
       "      <td>5</td>\n",
       "    </tr>\n",
       "    <tr>\n",
       "      <th>1637</th>\n",
       "      <td>11705</td>\n",
       "      <td>abc_08</td>\n",
       "      <td>2010-03-21</td>\n",
       "      <td>早押し</td>\n",
       "      <td>モナコ公国と極めてよく似たデザインの国旗をもつ、東南アジアの国はどこでしょう?</td>\n",
       "      <td>インドネシア</td>\n",
       "      <td>モナコ</td>\n",
       "      <td>国旗のデザインが国連基準の2:3の縦横比になるとインドネシアと同様になるため、両国の間で調整...</td>\n",
       "      <td>5</td>\n",
       "      <td>4</td>\n",
       "      <td>1</td>\n",
       "      <td>5</td>\n",
       "    </tr>\n",
       "    <tr>\n",
       "      <th>5388</th>\n",
       "      <td>12557</td>\n",
       "      <td>EQIDEN_2010</td>\n",
       "      <td>2010-03-21</td>\n",
       "      <td>早押し</td>\n",
       "      <td>1953年のミス・ユニバースで3位に入賞し、「八頭身美人」という流行語を生んだ日本のモデルは...</td>\n",
       "      <td>伊東絹子</td>\n",
       "      <td>ミス・ユニバース・ジャパン</td>\n",
       "      <td>日本代表は1950年代、合計3人が上位入賞(総合5位以内)するという結果を残し、1953年(...</td>\n",
       "      <td>5</td>\n",
       "      <td>1</td>\n",
       "      <td>1</td>\n",
       "      <td>5</td>\n",
       "    </tr>\n",
       "    <tr>\n",
       "      <th>394</th>\n",
       "      <td>11422</td>\n",
       "      <td>abc_08</td>\n",
       "      <td>2010-03-21</td>\n",
       "      <td>早押し</td>\n",
       "      <td>日本から見るカシオペア座や北斗七星などのように、一日中地平線に沈まない星のことを何というでしょう?</td>\n",
       "      <td>周極星</td>\n",
       "      <td>ケンタウルス座アルファ星</td>\n",
       "      <td>南緯29度以南になると、ケンタウルス座α星は周極星になり、地平線の下に沈む事はない。ケンタウ...</td>\n",
       "      <td>5</td>\n",
       "      <td>3</td>\n",
       "      <td>1</td>\n",
       "      <td>5</td>\n",
       "    </tr>\n",
       "    <tr>\n",
       "      <th>5237</th>\n",
       "      <td>12524</td>\n",
       "      <td>EQIDEN_2010</td>\n",
       "      <td>2010-03-21</td>\n",
       "      <td>早押し</td>\n",
       "      <td>インカ帝国を滅ぼしたのはフランシスコ・ピサロですが、アステカ帝国を滅ぼしたのは誰でしょう?</td>\n",
       "      <td>エルナン・コルテス</td>\n",
       "      <td>近世における世界の一体化</td>\n",
       "      <td>当時の南北アメリカには、先史時代にアジアからベーリング海峡を渡った人々が独自の文明を発達させ...</td>\n",
       "      <td>5</td>\n",
       "      <td>4</td>\n",
       "      <td>1</td>\n",
       "      <td>5</td>\n",
       "    </tr>\n",
       "  </tbody>\n",
       "</table>\n",
       "</div>"
      ],
      "text/plain": [
       "        qid  competition  timestamp format  \\\n",
       "394   11422       abc_08 2010-03-21    早押し   \n",
       "1637  11705       abc_08 2010-03-21    早押し   \n",
       "5388  12557  EQIDEN_2010 2010-03-21    早押し   \n",
       "394   11422       abc_08 2010-03-21    早押し   \n",
       "5237  12524  EQIDEN_2010 2010-03-21    早押し   \n",
       "\n",
       "                                               question     answer  \\\n",
       "394   日本から見るカシオペア座や北斗七星などのように、一日中地平線に沈まない星のことを何というでしょう?        周極星   \n",
       "1637            モナコ公国と極めてよく似たデザインの国旗をもつ、東南アジアの国はどこでしょう?     インドネシア   \n",
       "5388  1953年のミス・ユニバースで3位に入賞し、「八頭身美人」という流行語を生んだ日本のモデルは...       伊東絹子   \n",
       "394   日本から見るカシオペア座や北斗七星などのように、一日中地平線に沈まない星のことを何というでしょう?        周極星   \n",
       "5237      インカ帝国を滅ぼしたのはフランシスコ・ピサロですが、アステカ帝国を滅ぼしたのは誰でしょう?  エルナン・コルテス   \n",
       "\n",
       "              title                                               text  score  \\\n",
       "394    ケンタウルス座アルファ星  南緯29度以南になると、ケンタウルス座α星は周極星になり、地平線の下に沈む事はない。ケンタウ...      5   \n",
       "1637            モナコ  国旗のデザインが国連基準の2:3の縦横比になるとインドネシアと同様になるため、両国の間で調整...      5   \n",
       "5388  ミス・ユニバース・ジャパン  日本代表は1950年代、合計3人が上位入賞(総合5位以内)するという結果を残し、1953年(...      5   \n",
       "394    ケンタウルス座アルファ星  南緯29度以南になると、ケンタウルス座α星は周極星になり、地平線の下に沈む事はない。ケンタウ...      5   \n",
       "5237   近世における世界の一体化  当時の南北アメリカには、先史時代にアジアからベーリング海峡を渡った人々が独自の文明を発達させ...      5   \n",
       "\n",
       "      did  pred  gold  \n",
       "394     3     1     5  \n",
       "1637    4     1     5  \n",
       "5388    1     1     5  \n",
       "394     3     1     5  \n",
       "5237    4     1     5  "
      ]
     },
     "execution_count": 40,
     "metadata": {},
     "output_type": "execute_result"
    }
   ],
   "source": [
    "# goldとpredが極端に異なる question-answer-passage の一例について、他のpassageを含めた一覧\n",
    "index = np.random.choice(test_data[(abs(gold - pred) > 3) & (gold == 5)].index, size=5)\n",
    "test_data.iloc[index]"
   ]
  },
  {
   "cell_type": "code",
   "execution_count": 41,
   "metadata": {},
   "outputs": [
    {
     "data": {
      "text/html": [
       "<div>\n",
       "<style scoped>\n",
       "    .dataframe tbody tr th:only-of-type {\n",
       "        vertical-align: middle;\n",
       "    }\n",
       "\n",
       "    .dataframe tbody tr th {\n",
       "        vertical-align: top;\n",
       "    }\n",
       "\n",
       "    .dataframe thead th {\n",
       "        text-align: right;\n",
       "    }\n",
       "</style>\n",
       "<table border=\"1\" class=\"dataframe\">\n",
       "  <thead>\n",
       "    <tr style=\"text-align: right;\">\n",
       "      <th></th>\n",
       "      <th>qid</th>\n",
       "      <th>competition</th>\n",
       "      <th>timestamp</th>\n",
       "      <th>format</th>\n",
       "      <th>question</th>\n",
       "      <th>answer</th>\n",
       "      <th>title</th>\n",
       "      <th>text</th>\n",
       "      <th>score</th>\n",
       "      <th>did</th>\n",
       "      <th>pred</th>\n",
       "      <th>gold</th>\n",
       "    </tr>\n",
       "  </thead>\n",
       "  <tbody>\n",
       "    <tr>\n",
       "      <th>1236</th>\n",
       "      <td>11615</td>\n",
       "      <td>abc_08</td>\n",
       "      <td>2010-03-21</td>\n",
       "      <td>早押し</td>\n",
       "      <td>現在はジョン・ラルストン・サウルが会長を務めている、ロンドンに本部を置く、文学に関する国際的...</td>\n",
       "      <td>国際ペンクラブ</td>\n",
       "      <td>国際ペンクラブ</td>\n",
       "      <td>国際ペンクラブ(こくさいペンクラブ、PEN International)は、文学を通じて諸国...</td>\n",
       "      <td>0</td>\n",
       "      <td>4</td>\n",
       "      <td>4</td>\n",
       "      <td>0</td>\n",
       "    </tr>\n",
       "    <tr>\n",
       "      <th>3336</th>\n",
       "      <td>12104</td>\n",
       "      <td>abc_08</td>\n",
       "      <td>2010-03-21</td>\n",
       "      <td>早押し</td>\n",
       "      <td>別名を「シロバナムシヨケギク」という、ピレトリンという成分を含むため殺虫剤の原料に使用される...</td>\n",
       "      <td>除虫菊</td>\n",
       "      <td>殺虫剤</td>\n",
       "      <td>その後、カラバル豆の有毒なアルカロイド成分であるフィゾスチグミンを参考にして有機リン系と同様...</td>\n",
       "      <td>0</td>\n",
       "      <td>3</td>\n",
       "      <td>4</td>\n",
       "      <td>0</td>\n",
       "    </tr>\n",
       "    <tr>\n",
       "      <th>1534</th>\n",
       "      <td>11683</td>\n",
       "      <td>abc_08</td>\n",
       "      <td>2010-03-21</td>\n",
       "      <td>早押し</td>\n",
       "      <td>現在、囲碁の名人戦と将棋の名人戦の両方の主催に携わっている新聞社はどこでしょう?</td>\n",
       "      <td>朝日新聞社</td>\n",
       "      <td>名人戦 (将棋)</td>\n",
       "      <td>名人戦(めいじんせん)は、、毎日新聞社と朝日新聞社共催の将棋の棋戦で、全8タイトル戦(竜王戦...</td>\n",
       "      <td>0</td>\n",
       "      <td>2</td>\n",
       "      <td>4</td>\n",
       "      <td>0</td>\n",
       "    </tr>\n",
       "    <tr>\n",
       "      <th>5537</th>\n",
       "      <td>12590</td>\n",
       "      <td>EQIDEN_2010</td>\n",
       "      <td>2010-03-21</td>\n",
       "      <td>早押し</td>\n",
       "      <td>ドミニカ国の首都はロゾーですが、ドミニカ共和国の首都はどこでしょう?</td>\n",
       "      <td>サント・ドミンゴ</td>\n",
       "      <td>サントドミンゴ</td>\n",
       "      <td>サント・ドミンゴは、1844年2月27日に、ドミニカ人が国民的英雄に率いられ、ハイチの支配か...</td>\n",
       "      <td>0</td>\n",
       "      <td>4</td>\n",
       "      <td>5</td>\n",
       "      <td>0</td>\n",
       "    </tr>\n",
       "    <tr>\n",
       "      <th>5232</th>\n",
       "      <td>12523</td>\n",
       "      <td>EQIDEN_2010</td>\n",
       "      <td>2010-03-21</td>\n",
       "      <td>早押し</td>\n",
       "      <td>毎年秋に中山競馬場で開催される重賞レースにその名が冠せられている、日本競馬史上初のクラシック...</td>\n",
       "      <td>セントライト</td>\n",
       "      <td>シンボリルドルフ</td>\n",
       "      <td>秋緒戦、故障した右肩も回復し、すっかりリフレッシュしたシンボリルドルフはセントライト記念(中...</td>\n",
       "      <td>0</td>\n",
       "      <td>4</td>\n",
       "      <td>4</td>\n",
       "      <td>0</td>\n",
       "    </tr>\n",
       "  </tbody>\n",
       "</table>\n",
       "</div>"
      ],
      "text/plain": [
       "        qid  competition  timestamp format  \\\n",
       "1236  11615       abc_08 2010-03-21    早押し   \n",
       "3336  12104       abc_08 2010-03-21    早押し   \n",
       "1534  11683       abc_08 2010-03-21    早押し   \n",
       "5537  12590  EQIDEN_2010 2010-03-21    早押し   \n",
       "5232  12523  EQIDEN_2010 2010-03-21    早押し   \n",
       "\n",
       "                                               question    answer     title  \\\n",
       "1236  現在はジョン・ラルストン・サウルが会長を務めている、ロンドンに本部を置く、文学に関する国際的...   国際ペンクラブ   国際ペンクラブ   \n",
       "3336  別名を「シロバナムシヨケギク」という、ピレトリンという成分を含むため殺虫剤の原料に使用される...       除虫菊       殺虫剤   \n",
       "1534           現在、囲碁の名人戦と将棋の名人戦の両方の主催に携わっている新聞社はどこでしょう?     朝日新聞社  名人戦 (将棋)   \n",
       "5537                 ドミニカ国の首都はロゾーですが、ドミニカ共和国の首都はどこでしょう?  サント・ドミンゴ   サントドミンゴ   \n",
       "5232  毎年秋に中山競馬場で開催される重賞レースにその名が冠せられている、日本競馬史上初のクラシック...    セントライト  シンボリルドルフ   \n",
       "\n",
       "                                                   text  score  did  pred  \\\n",
       "1236  国際ペンクラブ(こくさいペンクラブ、PEN International)は、文学を通じて諸国...      0    4     4   \n",
       "3336  その後、カラバル豆の有毒なアルカロイド成分であるフィゾスチグミンを参考にして有機リン系と同様...      0    3     4   \n",
       "1534  名人戦(めいじんせん)は、、毎日新聞社と朝日新聞社共催の将棋の棋戦で、全8タイトル戦(竜王戦...      0    2     4   \n",
       "5537  サント・ドミンゴは、1844年2月27日に、ドミニカ人が国民的英雄に率いられ、ハイチの支配か...      0    4     5   \n",
       "5232  秋緒戦、故障した右肩も回復し、すっかりリフレッシュしたシンボリルドルフはセントライト記念(中...      0    4     4   \n",
       "\n",
       "      gold  \n",
       "1236     0  \n",
       "3336     0  \n",
       "1534     0  \n",
       "5537     0  \n",
       "5232     0  "
      ]
     },
     "execution_count": 41,
     "metadata": {},
     "output_type": "execute_result"
    }
   ],
   "source": [
    "# goldとpredが極端に異なる question-answer-passage の一例について、他のpassageを含めた一覧\n",
    "index = np.random.choice(test_data[(abs(gold - pred) > 3) & (gold == 0)].index, size=5)\n",
    "test_data.iloc[index]"
   ]
  },
  {
   "cell_type": "code",
   "execution_count": 88,
   "metadata": {},
   "outputs": [
    {
     "data": {
      "text/plain": [
       "11741    2\n",
       "11440    2\n",
       "12104    2\n",
       "12385    2\n",
       "12459    1\n",
       "12230    1\n",
       "12235    1\n",
       "12285    1\n",
       "12335    1\n",
       "12351    1\n",
       "12383    1\n",
       "11390    1\n",
       "12174    1\n",
       "12463    1\n",
       "12480    1\n",
       "12497    1\n",
       "12523    1\n",
       "12524    1\n",
       "12547    1\n",
       "12557    1\n",
       "12571    1\n",
       "12179    1\n",
       "12135    1\n",
       "12155    1\n",
       "11422    1\n",
       "11428    1\n",
       "11468    1\n",
       "11493    1\n",
       "11615    1\n",
       "11683    1\n",
       "11705    1\n",
       "11724    1\n",
       "11735    1\n",
       "11745    1\n",
       "11812    1\n",
       "11850    1\n",
       "11992    1\n",
       "11997    1\n",
       "12028    1\n",
       "12050    1\n",
       "12590    1\n",
       "Name: qid, dtype: int64"
      ]
     },
     "execution_count": 88,
     "metadata": {},
     "output_type": "execute_result"
    }
   ],
   "source": [
    "# goldとpredが極端に異なる question-answer-passage を列挙\n",
    "test_data[(abs(gold - pred) > 3)].qid.value_counts()"
   ]
  },
  {
   "cell_type": "code",
   "execution_count": 74,
   "metadata": {},
   "outputs": [
    {
     "data": {
      "text/plain": [
       "1183"
      ]
     },
     "execution_count": 74,
     "metadata": {},
     "output_type": "execute_result"
    },
    {
     "data": {
      "image/png": "[encoded data removed]",
      "text/plain": [
       "<Figure size 640x480 with 1 Axes>"
      ]
     },
     "metadata": {},
     "output_type": "display_data"
    }
   ],
   "source": [
    "# goldとpredが極端に異なる question-answer-passage を列挙して頻度分布\n",
    "#plt.plot(test_data[(abs(gold - pred) > 3)].qid.value_counts().values)\n",
    "plt.plot(range(len(test_data.qid.value_counts())), test_data.qid.value_counts(), linestyle='dashed', label='gold')\n",
    "\n",
    "for v_limit in range(1,5):\n",
    "    plt.plot(np.concatenate([test_data[(abs(gold - pred) > (v_limit - 1))].qid.value_counts().values, \n",
    "                         [0] * (len(test_data.qid.unique()) - len(test_data[(abs(gold - pred) > (v_limit - 1))].qid.value_counts().values))]), label=f'(abs(gold - pred) >= {v_limit})')\n",
    "\n",
    "\n",
    "plt.grid()\n",
    "plt.title(f'question-answer pairs, (abs(gold - pred) >= limit)')\n",
    "plt.xlabel('test question')\n",
    "plt.legend()\n",
    "len(test_data.qid.unique())"
   ]
  },
  {
   "cell_type": "code",
   "execution_count": 93,
   "metadata": {},
   "outputs": [
    {
     "data": {
      "text/plain": [
       "<AxesSubplot: >"
      ]
     },
     "execution_count": 93,
     "metadata": {},
     "output_type": "execute_result"
    },
    {
     "data": {
      "image/png": "[encoded data removed]",
      "text/plain": [
       "<Figure size 640x480 with 1 Axes>"
      ]
     },
     "metadata": {},
     "output_type": "display_data"
    }
   ],
   "source": [
    "v_limit = 1\n",
    "test_data[(abs(gold - pred) > (v_limit - 1))].score.hist()\n",
    "v_limit = 2\n",
    "test_data[(abs(gold - pred) > (v_limit - 1))].score.hist()\n",
    "v_limit = 3\n",
    "test_data[(abs(gold - pred) > (v_limit - 1))].score.hist()\n",
    "v_limit = 4\n",
    "test_data[(abs(gold - pred) > (v_limit - 1))].score.hist()\n",
    "v_limit = 5\n",
    "test_data[(abs(gold - pred) > (v_limit - 1))].score.hist()"
   ]
  },
  {
   "cell_type": "code",
   "execution_count": 94,
   "metadata": {},
   "outputs": [
    {
     "data": {
      "text/plain": [
       "<AxesSubplot: >"
      ]
     },
     "execution_count": 94,
     "metadata": {},
     "output_type": "execute_result"
    },
    {
     "data": {
      "image/png": "[encoded data removed]",
      "text/plain": [
       "<Figure size 640x480 with 1 Axes>"
      ]
     },
     "metadata": {},
     "output_type": "display_data"
    }
   ],
   "source": [
    "bins=10\n",
    "test_data.score.hist(bins=bins)\n",
    "v_limit = 1\n",
    "test_data[((gold - pred) > (v_limit - 1))].score.hist(bins=bins)\n",
    "v_limit = 2\n",
    "test_data[((gold - pred) > (v_limit - 1))].score.hist(bins=bins)\n",
    "v_limit = 3\n",
    "test_data[((gold - pred) > (v_limit - 1))].score.hist(bins=bins)\n",
    "v_limit = 4\n",
    "test_data[((gold - pred) > (v_limit - 1))].score.hist(bins=bins)\n",
    "v_limit = 5\n",
    "test_data[((gold - pred) > (v_limit - 1))].score.hist(bins=bins)"
   ]
  },
  {
   "attachments": {},
   "cell_type": "markdown",
   "metadata": {},
   "source": [
    "↑ 1なのに0と言ってしまうなどの例"
   ]
  },
  {
   "cell_type": "code",
   "execution_count": 95,
   "metadata": {},
   "outputs": [
    {
     "data": {
      "text/plain": [
       "<AxesSubplot: >"
      ]
     },
     "execution_count": 95,
     "metadata": {},
     "output_type": "execute_result"
    },
    {
     "data": {
      "image/png": "[encoded data removed]",
      "text/plain": [
       "<Figure size 640x480 with 1 Axes>"
      ]
     },
     "metadata": {},
     "output_type": "display_data"
    }
   ],
   "source": [
    "bins=10\n",
    "test_data.score.hist(bins=bins)\n",
    "v_limit = 1\n",
    "test_data[((pred - gold) > (v_limit - 1))].score.hist(bins=bins)\n",
    "v_limit = 2\n",
    "test_data[((pred - gold) > (v_limit - 1))].score.hist(bins=bins)\n",
    "v_limit = 3\n",
    "test_data[((pred - gold) > (v_limit - 1))].score.hist(bins=bins)\n",
    "v_limit = 4\n",
    "test_data[((pred - gold) > (v_limit - 1))].score.hist(bins=bins)\n",
    "v_limit = 5\n",
    "test_data[((pred - gold) > (v_limit - 1))].score.hist(bins=bins)"
   ]
  },
  {
   "attachments": {},
   "cell_type": "markdown",
   "metadata": {},
   "source": [
    "↑ 0なのに1と言ってしまうなどの例"
   ]
  },
  {
   "attachments": {},
   "cell_type": "markdown",
   "metadata": {},
   "source": [
    "予測を1違えているものが相当ある。どの正解ラベルで間違えやすいか? 両端か？中間か？"
   ]
  },
  {
   "cell_type": "code",
   "execution_count": 75,
   "metadata": {},
   "outputs": [
    {
     "data": {
      "text/html": [
       "<div>\n",
       "<style scoped>\n",
       "    .dataframe tbody tr th:only-of-type {\n",
       "        vertical-align: middle;\n",
       "    }\n",
       "\n",
       "    .dataframe tbody tr th {\n",
       "        vertical-align: top;\n",
       "    }\n",
       "\n",
       "    .dataframe thead th {\n",
       "        text-align: right;\n",
       "    }\n",
       "</style>\n",
       "<table border=\"1\" class=\"dataframe\">\n",
       "  <thead>\n",
       "    <tr style=\"text-align: right;\">\n",
       "      <th></th>\n",
       "      <th>qid</th>\n",
       "      <th>competition</th>\n",
       "      <th>timestamp</th>\n",
       "      <th>format</th>\n",
       "      <th>question</th>\n",
       "      <th>answer</th>\n",
       "      <th>title</th>\n",
       "      <th>text</th>\n",
       "      <th>score</th>\n",
       "      <th>did</th>\n",
       "      <th>pred</th>\n",
       "      <th>gold</th>\n",
       "    </tr>\n",
       "  </thead>\n",
       "  <tbody>\n",
       "    <tr>\n",
       "      <th>1807</th>\n",
       "      <td>11741</td>\n",
       "      <td>abc_08</td>\n",
       "      <td>2010-03-21</td>\n",
       "      <td>早押し</td>\n",
       "      <td>正式には『フランス・バニング・コック隊長とウィレム・ファン・ラウテンブルフ副隊長の市民隊』と...</td>\n",
       "      <td>夜警</td>\n",
       "      <td>レンブラント・ファン・レイン</td>\n",
       "      <td>「光の画家」「光の魔術師」(または「光と影の画家」「光と影の魔術師」)の異名を持ち、油彩だけ...</td>\n",
       "      <td>5</td>\n",
       "      <td>1</td>\n",
       "      <td>5</td>\n",
       "      <td>5</td>\n",
       "    </tr>\n",
       "    <tr>\n",
       "      <th>1808</th>\n",
       "      <td>11741</td>\n",
       "      <td>abc_08</td>\n",
       "      <td>2010-03-21</td>\n",
       "      <td>早押し</td>\n",
       "      <td>正式には『フランス・バニング・コック隊長とウィレム・ファン・ラウテンブルフ副隊長の市民隊』と...</td>\n",
       "      <td>夜警</td>\n",
       "      <td>夜警 (絵画)</td>\n",
       "      <td>夜警(やけい、オランダ語:De Nachtwacht)は、オランダの17世紀の画家レンブラン...</td>\n",
       "      <td>4</td>\n",
       "      <td>2</td>\n",
       "      <td>5</td>\n",
       "      <td>4</td>\n",
       "    </tr>\n",
       "    <tr>\n",
       "      <th>1809</th>\n",
       "      <td>11741</td>\n",
       "      <td>abc_08</td>\n",
       "      <td>2010-03-21</td>\n",
       "      <td>早押し</td>\n",
       "      <td>正式には『フランス・バニング・コック隊長とウィレム・ファン・ラウテンブルフ副隊長の市民隊』と...</td>\n",
       "      <td>夜警</td>\n",
       "      <td>レンブラント・ファン・レイン</td>\n",
       "      <td>レンブラントの著名な作品として『フランス・バニング・コック隊長の市警団(夜警)』が挙げられる...</td>\n",
       "      <td>1</td>\n",
       "      <td>3</td>\n",
       "      <td>5</td>\n",
       "      <td>1</td>\n",
       "    </tr>\n",
       "    <tr>\n",
       "      <th>1810</th>\n",
       "      <td>11741</td>\n",
       "      <td>abc_08</td>\n",
       "      <td>2010-03-21</td>\n",
       "      <td>早押し</td>\n",
       "      <td>正式には『フランス・バニング・コック隊長とウィレム・ファン・ラウテンブルフ副隊長の市民隊』と...</td>\n",
       "      <td>夜警</td>\n",
       "      <td>夜警 (絵画)</td>\n",
       "      <td>『夜警』はオランダ黄金時代の絶頂期であった1642年に完成した。この絵は題名となった市民隊(...</td>\n",
       "      <td>0</td>\n",
       "      <td>4</td>\n",
       "      <td>5</td>\n",
       "      <td>0</td>\n",
       "    </tr>\n",
       "    <tr>\n",
       "      <th>1811</th>\n",
       "      <td>11741</td>\n",
       "      <td>abc_08</td>\n",
       "      <td>2010-03-21</td>\n",
       "      <td>早押し</td>\n",
       "      <td>正式には『フランス・バニング・コック隊長とウィレム・ファン・ラウテンブルフ副隊長の市民隊』と...</td>\n",
       "      <td>夜警</td>\n",
       "      <td>レンブラント広場</td>\n",
       "      <td>画家レンブラント・ファン・レインの生誕400周年を記念して造られた公園で園内には彼の代表作の...</td>\n",
       "      <td>3</td>\n",
       "      <td>5</td>\n",
       "      <td>2</td>\n",
       "      <td>3</td>\n",
       "    </tr>\n",
       "  </tbody>\n",
       "</table>\n",
       "</div>"
      ],
      "text/plain": [
       "        qid competition  timestamp format  \\\n",
       "1807  11741      abc_08 2010-03-21    早押し   \n",
       "1808  11741      abc_08 2010-03-21    早押し   \n",
       "1809  11741      abc_08 2010-03-21    早押し   \n",
       "1810  11741      abc_08 2010-03-21    早押し   \n",
       "1811  11741      abc_08 2010-03-21    早押し   \n",
       "\n",
       "                                               question answer  \\\n",
       "1807  正式には『フランス・バニング・コック隊長とウィレム・ファン・ラウテンブルフ副隊長の市民隊』と...     夜警   \n",
       "1808  正式には『フランス・バニング・コック隊長とウィレム・ファン・ラウテンブルフ副隊長の市民隊』と...     夜警   \n",
       "1809  正式には『フランス・バニング・コック隊長とウィレム・ファン・ラウテンブルフ副隊長の市民隊』と...     夜警   \n",
       "1810  正式には『フランス・バニング・コック隊長とウィレム・ファン・ラウテンブルフ副隊長の市民隊』と...     夜警   \n",
       "1811  正式には『フランス・バニング・コック隊長とウィレム・ファン・ラウテンブルフ副隊長の市民隊』と...     夜警   \n",
       "\n",
       "               title                                               text  \\\n",
       "1807  レンブラント・ファン・レイン  「光の画家」「光の魔術師」(または「光と影の画家」「光と影の魔術師」)の異名を持ち、油彩だけ...   \n",
       "1808         夜警 (絵画)  夜警(やけい、オランダ語:De Nachtwacht)は、オランダの17世紀の画家レンブラン...   \n",
       "1809  レンブラント・ファン・レイン  レンブラントの著名な作品として『フランス・バニング・コック隊長の市警団(夜警)』が挙げられる...   \n",
       "1810         夜警 (絵画)  『夜警』はオランダ黄金時代の絶頂期であった1642年に完成した。この絵は題名となった市民隊(...   \n",
       "1811        レンブラント広場  画家レンブラント・ファン・レインの生誕400周年を記念して造られた公園で園内には彼の代表作の...   \n",
       "\n",
       "      score  did  pred  gold  \n",
       "1807      5    1     5     5  \n",
       "1808      4    2     5     4  \n",
       "1809      1    3     5     1  \n",
       "1810      0    4     5     0  \n",
       "1811      3    5     2     3  "
      ]
     },
     "execution_count": 75,
     "metadata": {},
     "output_type": "execute_result"
    }
   ],
   "source": [
    "# goldとpredが極端に異なる question-answer-passage の top-1\n",
    "qid = test_data[(abs(gold - pred) > 3)].qid.value_counts().keys()[0]\n",
    "test_data[test_data.qid == qid]"
   ]
  },
  {
   "cell_type": "code",
   "execution_count": 97,
   "metadata": {},
   "outputs": [
    {
     "data": {
      "text/html": [
       "<div>\n",
       "<style scoped>\n",
       "    .dataframe tbody tr th:only-of-type {\n",
       "        vertical-align: middle;\n",
       "    }\n",
       "\n",
       "    .dataframe tbody tr th {\n",
       "        vertical-align: top;\n",
       "    }\n",
       "\n",
       "    .dataframe thead th {\n",
       "        text-align: right;\n",
       "    }\n",
       "</style>\n",
       "<table border=\"1\" class=\"dataframe\">\n",
       "  <thead>\n",
       "    <tr style=\"text-align: right;\">\n",
       "      <th></th>\n",
       "      <th>qid</th>\n",
       "      <th>competition</th>\n",
       "      <th>timestamp</th>\n",
       "      <th>format</th>\n",
       "      <th>question</th>\n",
       "      <th>answer</th>\n",
       "      <th>title</th>\n",
       "      <th>text</th>\n",
       "      <th>score</th>\n",
       "      <th>did</th>\n",
       "      <th>pred</th>\n",
       "      <th>gold</th>\n",
       "    </tr>\n",
       "  </thead>\n",
       "  <tbody>\n",
       "    <tr>\n",
       "      <th>477</th>\n",
       "      <td>11440</td>\n",
       "      <td>abc_08</td>\n",
       "      <td>2010-03-21</td>\n",
       "      <td>早押し</td>\n",
       "      <td>白石一文の直木賞受賞作は『ほかならぬ人へ』ですが、その父である白石一郎の直木賞受賞作は何でしょう?</td>\n",
       "      <td>海狼伝</td>\n",
       "      <td>白石一郎</td>\n",
       "      <td>直木賞には、「孤島の騎士」(1970)、「火炎城」(1974)、「一炊の夢」「幻島記」(19...</td>\n",
       "      <td>4</td>\n",
       "      <td>1</td>\n",
       "      <td>0</td>\n",
       "      <td>4</td>\n",
       "    </tr>\n",
       "    <tr>\n",
       "      <th>478</th>\n",
       "      <td>11440</td>\n",
       "      <td>abc_08</td>\n",
       "      <td>2010-03-21</td>\n",
       "      <td>早押し</td>\n",
       "      <td>白石一文の直木賞受賞作は『ほかならぬ人へ』ですが、その父である白石一郎の直木賞受賞作は何でしょう?</td>\n",
       "      <td>海狼伝</td>\n",
       "      <td>白石一郎</td>\n",
       "      <td>代表作は直木賞を受賞した『海狼伝』で、ほかにも「海」を舞台にした(または「海」を冠した)作品...</td>\n",
       "      <td>5</td>\n",
       "      <td>2</td>\n",
       "      <td>0</td>\n",
       "      <td>5</td>\n",
       "    </tr>\n",
       "  </tbody>\n",
       "</table>\n",
       "</div>"
      ],
      "text/plain": [
       "       qid competition  timestamp format  \\\n",
       "477  11440      abc_08 2010-03-21    早押し   \n",
       "478  11440      abc_08 2010-03-21    早押し   \n",
       "\n",
       "                                              question answer title  \\\n",
       "477  白石一文の直木賞受賞作は『ほかならぬ人へ』ですが、その父である白石一郎の直木賞受賞作は何でしょう?    海狼伝  白石一郎   \n",
       "478  白石一文の直木賞受賞作は『ほかならぬ人へ』ですが、その父である白石一郎の直木賞受賞作は何でしょう?    海狼伝  白石一郎   \n",
       "\n",
       "                                                  text  score  did  pred  gold  \n",
       "477  直木賞には、「孤島の騎士」(1970)、「火炎城」(1974)、「一炊の夢」「幻島記」(19...      4    1     0     4  \n",
       "478  代表作は直木賞を受賞した『海狼伝』で、ほかにも「海」を舞台にした(または「海」を冠した)作品...      5    2     0     5  "
      ]
     },
     "execution_count": 97,
     "metadata": {},
     "output_type": "execute_result"
    }
   ],
   "source": [
    "# goldとpredが極端に異なる question-answer-passage の top-2\n",
    "qid = test_data[(abs(gold - pred) > 3)].qid.value_counts().keys()[1]\n",
    "test_data[test_data.qid == qid]"
   ]
  },
  {
   "cell_type": "code",
   "execution_count": null,
   "metadata": {},
   "outputs": [],
   "source": []
  }
 ],
 "metadata": {
  "kernelspec": {
   "display_name": "t5-japanese",
   "language": "python",
   "name": "python3"
  },
  "language_info": {
   "codemirror_mode": {
    "name": "ipython",
    "version": 3
   },
   "file_extension": ".py",
   "mimetype": "text/x-python",
   "name": "python",
   "nbconvert_exporter": "python",
   "pygments_lexer": "ipython3",
   "version": "3.8.16"
  },
  "orig_nbformat": 4,
  "vscode": {
   "interpreter": {
    "hash": "0985259476dc7600f16e86bd2624c2cdcd7eab014406b200d829cfa23f54cbc6"
   }
  }
 },
 "nbformat": 4,
 "nbformat_minor": 2
}
